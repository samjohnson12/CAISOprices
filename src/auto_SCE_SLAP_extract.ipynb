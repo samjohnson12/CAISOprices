{
 "cells": [
  {
   "cell_type": "markdown",
   "metadata": {},
   "source": [
    "# CAISO OASIS Data downloader\n",
    "\n",
    "Data taken from [CAISO Oasis portal](http://oasis.caiso.com/mrioasis)\n",
    "\n",
    "API documentation located [here](http://www.caiso.com/Documents/OASIS-InterfaceSpecification_v5_1_3Clean_Fall2017Release.pdf)"
   ]
  },
  {
   "cell_type": "code",
   "execution_count": 11,
   "metadata": {},
   "outputs": [],
   "source": [
    "import requests\n",
    "from selenium import webdriver\n",
    "import pandas as pd\n",
    "import zipfile as zp\n",
    "import time\n",
    "import os\n",
    "import glob\n",
    "import xml.etree.ElementTree as Xet"
   ]
  },
  {
   "cell_type": "code",
   "execution_count": 12,
   "metadata": {},
   "outputs": [
    {
     "data": {
      "text/plain": [
       "'1201'"
      ]
     },
     "execution_count": 12,
     "metadata": {},
     "output_type": "execute_result"
    }
   ],
   "source": [
    "month_dict = {'Jan': ['0101', '0131'],\n",
    "              'Feb': ['0201', '0228'],\n",
    "              'Mar': ['0301', '0331'],\n",
    "              'Apr': ['0401', '0430'],\n",
    "              'May': ['0501', '0531'],\n",
    "              'Jun': ['0601', '0630'],\n",
    "              'Jul': ['0701', '0731'],\n",
    "              'Aug': ['0801', '0831'],\n",
    "              'Sep': ['0901', '0930'],\n",
    "              'Oct': ['1001', '1031'],\n",
    "              'Nov': ['1101', '1130'],\n",
    "              'Dec': ['1201', '1231']\n",
    "              }\n",
    "\n",
    "month_dict['Dec'][0]"
   ]
  },
  {
   "cell_type": "code",
   "execution_count": 13,
   "metadata": {},
   "outputs": [],
   "source": [
    "def extract_monthly_data(year):\n",
    "    chrome_options = webdriver.ChromeOptions()\n",
    "    prefs = {'download.default_directory': os.path.join(r\"C:\\Users\\SESA639725\\Documents\\Git\\CAISOprices\\data\", str(year))}\n",
    "    chrome_options.add_experimental_option('prefs', prefs)\n",
    "\n",
    "    driver = webdriver.Chrome(options=chrome_options)\n",
    "    for month in month_dict.keys():\n",
    "        api_call = \"http://oasis.caiso.com/oasisapi/SingleZip?queryname=PRC_INTVL_LMP&startdatetime=\" + \\\n",
    "            str(year) + month_dict[month][0] + \"T07:00-0000&enddatetime=\" + str(year) + month_dict[month][1] + \\\n",
    "                \"T07:00-0000&version=1&resultformat=6&market_run_id=RTM&node=SLAP_SCEW-APND\"\n",
    "        print(api_call)\n",
    "        driver.get(api_call)\n",
    "        time.sleep(15)\n",
    "        \n",
    "    zip_files = glob.glob('../data/' + str(year) + '/*.zip')\n",
    "    for zip_filename in zip_files:\n",
    "        dir_name = os.path.splitext(zip_filename)[0]\n",
    "        os.mkdir(dir_name)\n",
    "        zip_handler = zp.ZipFile(zip_filename, \"r\")\n",
    "        zip_handler.extractall(dir_name)\n",
    "\n",
    "    # path = dir_name\n",
    "    csv_files = glob.glob('../data/' + str(year) +'/*/*.csv')\n",
    "\n",
    "    entries = []\n",
    "\n",
    "    for csv in csv_files:\n",
    "        entries.append(pd.read_csv(csv))\n",
    "\n",
    "    combined_csvs = pd.concat(entries)\n",
    "    combined_csvs.to_csv('../data/' + str(year) + '/' + str(year) + '_SCE_SLAPs.csv')\n",
    "\n",
    "# extract_monthly_data(2023)"
   ]
  },
  {
   "cell_type": "code",
   "execution_count": 14,
   "metadata": {},
   "outputs": [
    {
     "name": "stdout",
     "output_type": "stream",
     "text": [
      "Total number of high price intervals in 2023: 198\n"
     ]
    }
   ],
   "source": [
    "# Cleaning monthly data...\n",
    "def clean_monthly_data(year):\n",
    "    # Remove columns that are not needed...\n",
    "    df = pd.read_csv('../data/' + str(year) + '/' + str(year) + '_SCE_SLAPs.csv')\n",
    "    df = df.drop(df.columns[0], axis=1)\n",
    "    df = df.drop(columns=['INTERVALENDTIME_GMT', 'OPR_DT', 'OPR_HR', 'NODE_ID_XML', 'NODE_ID', 'NODE', 'MARKET_RUN_ID', 'LMP_TYPE', 'PNODE_RESMRID', 'GRP_TYPE', 'POS', 'OPR_INTERVAL', 'GROUP'])\n",
    "\n",
    "    # Rename columns...\n",
    "    df = df.rename(columns={'MW': 'LMP'})\n",
    "\n",
    "    # Convert 'LMP' to numeric...\n",
    "    df['LMP'] = pd.to_numeric(df['LMP'])\n",
    "    \n",
    "    # Filter only for 'XML_DATA_ITEM' = 'LMP_ENE_PRC'...\n",
    "    df = df[df['XML_DATA_ITEM'] == 'LMP_ENE_PRC']\n",
    "\n",
    "    # Drop 'XML_DATA_ITEM' column...\n",
    "    df = df.drop(columns=['XML_DATA_ITEM'])\n",
    "\n",
    "    # Consolidate 5-minute data into 15-minute intervals...\n",
    "    df['INTERVALSTARTTIME_GMT'] = pd.to_datetime(df['INTERVALSTARTTIME_GMT'])\n",
    "    df = df.resample('15T', on='INTERVALSTARTTIME_GMT').mean()\n",
    "\n",
    "    # Reset index...\n",
    "    df = df.reset_index()\n",
    "\n",
    "    # If the LMP is >= $200/MWh, make a new column 'High Price' and set to 1...\n",
    "    df['High Price'] = 0\n",
    "    df.loc[df['LMP'] >= 200, 'High Price'] = 1\n",
    "\n",
    "    # Print total number of high price intervals...\n",
    "    print('Total number of high price intervals in ' + str(year) + ': ' + str(df['High Price'].sum()))\n",
    "\n",
    "    # Rename columns...\n",
    "    df = df.rename(columns={'INTERVALSTARTTIME_GMT': 'datetime', 'LMP': 'price', 'High Price': 'merchant_schedule'})\n",
    "\n",
    "    # Save cleaned data...\n",
    "    df.to_csv('../data/' + str(year) + '/' + str(year) + '_SCE_SLAPs_cleaned.csv', index=False)\n",
    "\n",
    "clean_monthly_data(2023)"
   ]
  },
  {
   "cell_type": "code",
   "execution_count": 15,
   "metadata": {},
   "outputs": [],
   "source": [
    "# def extract_monthly_5min_data(year, node):\n",
    "#     chrome_options = webdriver.ChromeOptions()\n",
    "#     prefs = {'download.default_directory' : os.path.join(r\"C:\\Users\\SESA639725\\Documents\\Git\\CAISOprices\\data\\5min\", str(year))}\n",
    "#     chrome_options.add_experimental_option('prefs', prefs)\n",
    "\n",
    "#     driver = webdriver.Chrome(options=chrome_options)\n",
    "#     for month in month_dict.keys():\n",
    "#         api_call = \"http://oasis.caiso.com/oasisapi/SingleZip?queryname=PRC_INTVL_LMP&resultformat=6&startdatetime=\" + str(year)+month_dict[month][0] + \"T07:00-0000&enddatetime=\" +  str(year)+month_dict[month][1] + \"T07:00-0000&version=1&market_run_id=HASP&node=\" + node\n",
    "#         print(api_call)\n",
    "#         driver.get(api_call)\n",
    "#         time.sleep(15)\n",
    "        \n",
    "#     zip_files = glob.glob('../data/5min/' +str(year)+'/*.zip')\n",
    "#     for zip_filename in zip_files:\n",
    "#         dir_name = os.path.splitext(zip_filename)[0]\n",
    "#         os.mkdir(dir_name)\n",
    "#         zip_handler = zp.ZipFile(zip_filename, \"r\")\n",
    "#         zip_handler.extractall(dir_name)\n",
    "\n",
    "#     # path = dir_name\n",
    "#     csv_files = glob.glob('../data/5min/' + str(year) +'/*/*.csv')\n",
    "\n",
    "#     entries =[]\n",
    "\n",
    "#     for csv in csv_files:\n",
    "#         entries.append(pd.read_csv(csv))\n",
    "\n",
    "#     combined_csvs = pd.concat(entries)\n",
    "#     combined_csvs.to_csv('../data/5min/' + str(year) +'/'+ str(year) + node +'.csv')\n",
    "\n",
    "# extract_monthly_5min_data(2023, \"CLEARKE_6_N012\")"
   ]
  },
  {
   "cell_type": "code",
   "execution_count": 16,
   "metadata": {},
   "outputs": [],
   "source": [
    "# def extract_monthly_15min_data(year, node):\n",
    "#     chrome_options = webdriver.ChromeOptions()\n",
    "#     prefs = {'download.default_directory' : '/Users/jaromeleslie/Documents/MDS/Personal_projects/CAISO_oasis_extractor/data/15min/'+str(year)}\n",
    "#     chrome_options.add_experimental_option('prefs', prefs)\n",
    "\n",
    "#     driver = webdriver.Chrome(chrome_options=chrome_options)\n",
    "#     for month in month_dict.keys():\n",
    "#         api_call = \"http://oasis.caiso.com/oasisapi/SingleZip?queryname=PRC_INTVL_LMP&resultformat=6&startdatetime=\" + str(year)+month_dict[month][0] + \"T07:00-0000&enddatetime=\" +  str(year)+month_dict[month][1] + \"T07:00-0000&version=1&market_run_id=HASP&node=\" + node\n",
    "#         print(api_call)\n",
    "#         driver.get(api_call)\n",
    "#         time.sleep(15)\n",
    "        \n",
    "#     zip_files = glob.glob('../data/15min/' +str(year)+'/*.zip')\n",
    "#     for zip_filename in zip_files:\n",
    "#         dir_name = os.path.splitext(zip_filename)[0]\n",
    "#         os.mkdir(dir_name)\n",
    "#         zip_handler = zp.ZipFile(zip_filename, \"r\")\n",
    "#         zip_handler.extractall(dir_name)\n",
    "\n",
    "#     # path = dir_name\n",
    "#     csv_files = glob.glob('../data/15min/' + str(year) +'/*/*.csv')\n",
    "\n",
    "#     entries =[]\n",
    "\n",
    "#     for csv in csv_files:\n",
    "#         entries.append(pd.read_csv(csv))\n",
    "\n",
    "#     combined_csvs = pd.concat(entries)\n",
    "#     combined_csvs.to_csv('../data/15min/' + str(year) +'/'+ str(year) + node +'.csv')\n",
    "\n",
    "# extract_monthly_15min_data(2019, \"SLAP_SCEC-APND\")"
   ]
  },
  {
   "cell_type": "code",
   "execution_count": 17,
   "metadata": {},
   "outputs": [
    {
     "data": {
      "text/plain": [
       "'http://oasis.caiso.com/oasisapi/SingleZip?queryname=PRC_HASP_LMP&resultformat=6&startdatetime=20190101T07:00-0000&enddatetime=20190131T07:00-0000&version=1&market_run_id=HASP&node=SLAP_SCEC-APND'"
      ]
     },
     "execution_count": 17,
     "metadata": {},
     "output_type": "execute_result"
    }
   ],
   "source": [
    "\"http://oasis.caiso.com/oasisapi/SingleZip?queryname=PRC_HASP_LMP&resultformat=6&startdatetime=20190101T07:00-0000&enddatetime=20190131T07:00-0000&version=1&market_run_id=HASP&node=SLAP_SCEC-APND\""
   ]
  }
 ],
 "metadata": {
  "kernelspec": {
   "display_name": "Python 3",
   "language": "python",
   "name": "python3"
  },
  "language_info": {
   "codemirror_mode": {
    "name": "ipython",
    "version": 3
   },
   "file_extension": ".py",
   "mimetype": "text/x-python",
   "name": "python",
   "nbconvert_exporter": "python",
   "pygments_lexer": "ipython3",
   "version": "3.11.0"
  }
 },
 "nbformat": 4,
 "nbformat_minor": 4
}
